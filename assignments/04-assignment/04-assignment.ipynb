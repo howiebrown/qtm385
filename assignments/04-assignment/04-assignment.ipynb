{
 "cells": [
  {
   "cell_type": "markdown",
   "metadata": {},
   "source": [
    "# QTM 385 - Experimental Methods\\n\n",
    "## Assignment 04"
   ]
  },
  {
   "cell_type": "markdown",
   "metadata": {},
   "source": [
    "## Instructions\n",
    "As in previous assignments, here are 10 questions related to our recent classes. They cover randomisation inference, blocking, clustering, and statistical power.\n",
    "\n",
    "If you have any questions about the assignment, feel free to email me at <danilo.freire@emory.edu>.\n",
    "\n",
    "Good luck!"
   ]
  },
  {
   "cell_type": "markdown",
   "metadata": {},
   "source": [
    "## Questions"
   ]
  },
  {
   "cell_type": "markdown",
   "metadata": {},
   "source": [
    "1. Explain what the ICC represents in the context of a clustered randomised trial. Give a concrete example of a situation where you would expect a high ICC."
   ]
  },
  {
   "cell_type": "markdown",
   "metadata": {},
   "source": [
    "2. Imagine that you have designed a cluster-randomised trial with 10 schools (5 treatment, 5 control) and found an ICC of 0.15. Calculate the design effect (or variance inflation factor) for this study if the average cluster size is 2000 students."
   ]
  },
  {
   "cell_type": "markdown",
   "metadata": {},
   "source": [
    "3. You want to increase the statistical power of your experiment. What are the main factors that influence the power of a study, and how can you increase it?"
   ]
  },
  {
   "cell_type": "markdown",
   "metadata": {},
   "source": [
    "4. A diet and exercise program advertises that it causes everyone who is currently starting a diet to lose at least seven pounds more than they otherwise would have during the first two weeks. Use randomisation inference to test the hypothesis that $\\tau_i = 7$ for all $i$. The treatment group's weight losses after two weeks are $\\{2, 11, 14, 0, 3\\}$ and the control group's weight losses are $\\{1, 0, 0, 4, 3\\}$. In order to test the hypothesis $\\tau_i = 7$ for all $i$ using the randomisation inference methods discussed in this chapter, subtract 7 from each outcome in the treatment group so that the exercise turns into the more familiar test of the sharp null hypothesis that $\\tau_i = 0$ for all $i$. When describing your results, remember to state the null hypothesis clearly, and explain why you chose to use a one-sided or two-sided test. (Adapted from Gerber and Green, 2012, p. 88)."
   ]
  },
  {
   "cell_type": "code",
   "execution_count": null,
   "metadata": {
    "vscode": {
     "languageId": "r"
    }
   },
   "outputs": [],
   "source": [
    "power_calculator <- function(mu_t, mu_c, sigma, alpha=0.05, N){\n",
    "  lowertail <- (abs(mu_t - mu_c)*sqrt(N))/(2*sigma) \n",
    "  uppertail <- -1*lowertail \n",
    "  beta <- pnorm(lowertail- qnorm(1-alpha/2), lower.tail=TRUE) + 1- pnorm(uppertail- qnorm(1-alpha/2), lower.tail=FALSE)\n",
    "  return(beta)\n",
    "  }"
   ]
  },
  {
   "cell_type": "markdown",
   "metadata": {},
   "source": [
    "5. Below is an R function to calculate statistical power in R. Assuming that $\\mu_t = 55$, $\\mu_c = 50$, $\\sigma = 30$, $n = 100$, and $\\alpha = 0.05$, calculate the statistical power of the test. How many individuals would be necessary for the statistical power to be 0.8?"
   ]
  },
  {
   "cell_type": "markdown",
   "metadata": {},
   "source": [
    "6. Sometimes, rather than calculate a budget based on sample size, we have a maximum budget and need to decide whether it is worth doing the study (that is, whether we are sufficiently powered to detect a given effect size, conditional on budgetary limitations). You find out that you only have enough funds for a sample size of 2400 in total. Using the estimate of a roughly 5% increase in test scores and a standard deviation of test scores of 16.5, what is the power of your experiment? (An approximate answer is okay; it’s hard to get exact power on the calculator this way.) The mean test score in the control group is 37. Is it worth carrying out the study on just 2400 students? How would you determine this? (Adapted from J-PAL, 2019)."
   ]
  },
  {
   "cell_type": "markdown",
   "metadata": {},
   "source": [
    "7. Naturally occurring experiments sometimes involve what is, in effect, block random assignment. For example, Titiunik studies the effect of lotteries that determine whether state senators in Texas and Arkansas serve two-year or four-year terms in the aftermath of decennial redistricting. These lotteries are conducted within each state, and so there are effectively two distinct experiments on the effects of term length. An interesting outcome variable is the number of bills (legislative proposals) that each senator introduces during a legislative session. The table below lists the number of bills introduced by senators in both states during 2003. For each state, estimate the effect of having a two-year term on the number of bills introduced."
   ]
  },
  {
   "cell_type": "raw",
   "metadata": {},
   "source": [
    "|         Texas         | # of bills introduced |        Arkansas        | # of bills introduced |\n",
    "| :-------------------: | :-------------------: | :--------------------: | :-------------------: |\n",
    "| Term Length:          |                       | Term Length:           |                       |\n",
    "| 0 = four-year term;   |                       | 0 = four-year term;    |                       |\n",
    "| 1 = two-year term     |                       | 1 = two-year term      |                       |\n",
    "| --------------------- | --------------------- | ---------------------- | --------------------- |\n",
    "| 0                     | 18                    | 0                      | 11                    |\n",
    "| 0                     | 29                    | 0                      | 15                    |\n",
    "| 0                     | 41                    | 0                      | 23                    |\n",
    "| 0                     | 53                    | 0                      | 24                    |\n",
    "| 0                     | 60                    | 0                      | 25                    |\n",
    "| 0                     | 67                    | 0                      | 26                    |\n",
    "| 0                     | 75                    | 0                      | 28                    |\n",
    "| 0                     | 79                    | 0                      | 31                    |\n",
    "| 0                     | 79                    | 0                      | 33                    |\n",
    "| 0                     | 88                    | 0                      | 34                    |\n",
    "| 0                     | 93                    | 0                      | 35                    |\n",
    "| 0                     | 101                   | 0                      | 35                    |\n",
    "| 0                     | 103                   | 0                      | 36                    |\n",
    "| 0                     | 106                   | 0                      | 38                    |\n",
    "| 0                     | 107                   | 0                      | 52                    |\n",
    "| 0                     | 131                   | 0                      | 59                    |\n",
    "| 1                     | 29                    | 1                      | 9                     |\n",
    "| 1                     | 37                    | 1                      | 10                    |\n",
    "| 1                     | 42                    | 1                      | 14                    |\n",
    "| 1                     | 45                    | 1                      | 15                    |\n",
    "| 1                     | 45                    | 1                      | 15                    |\n",
    "| 1                     | 54                    | 1                      | 17                    |\n",
    "| 1                     | 54                    | 1                      | 18                    |\n",
    "| 1                     | 58                    | 1                      | 19                    |\n",
    "| 1                     | 61                    | 1                      | 19                    |\n",
    "| 1                     | 64                    | 1                      | 20                    |\n",
    "| 1                     | 69                    | 1                      | 21                    |\n",
    "| 1                     | 73                    | 1                      | 23                    |\n",
    "| 1                     | 75                    | 1                      | 23                    |\n",
    "| 1                     | 92                    | 1                      | 24                    |\n",
    "| 1                     | 104                   | 1                      | 28                    |\n",
    "|                       |                       | 1                      | 30                    |\n",
    "|                       |                       | 1                      | 32                    |\n",
    "|                       |                       | 1                      | 34                    |\n",
    "|                       |                       | 0                      | 17                    |\n"
   ]
  },
  {
   "cell_type": "markdown",
   "metadata": {},
   "source": [
    "8. Estimate the overall ATE for both states combined."
   ]
  },
  {
   "cell_type": "markdown",
   "metadata": {},
   "source": [
    "9. Explain why, in this study, simply pooling the data for the two states and comparing the average number of bills introduced by two-year senators to the average number of bills introduced by four-year senators leads to different estimates of the overall ATE."
   ]
  },
  {
   "cell_type": "markdown",
   "metadata": {},
   "source": [
    "10. Use randomisation inference to test the sharp null hypothesis that the treatment effect is zero for senators in both states."
   ]
  }
 ],
 "metadata": {
  "kernelspec": {
   "display_name": "R",
   "language": "R",
   "name": "ir"
  },
  "language_info": {
   "codemirror_mode": "r",
   "file_extension": ".r",
   "mimetype": "text/x-r-source",
   "name": "R",
   "pygments_lexer": "r",
   "version": "4.3.2"
  }
 },
 "nbformat": 4,
 "nbformat_minor": 4
}
